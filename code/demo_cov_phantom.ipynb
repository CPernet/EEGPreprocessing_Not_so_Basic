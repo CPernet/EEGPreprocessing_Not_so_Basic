{
 "cells": [
  {
   "cell_type": "code",
   "execution_count": null,
   "metadata": {},
   "outputs": [],
   "source": [
    "%matplotlib inline"
   ]
  },
  {
   "cell_type": "markdown",
   "metadata": {},
   "source": [
    "\n",
    "\n",
    "# Brainstorm Elekta phantom dataset tutorial\n",
    "\n",
    "\n",
    "Here we compute the evoked from raw for the Brainstorm Elekta phantom\n",
    "tutorial dataset. For comparison, see:\n",
    "\n",
    "    https://neuroimage.usc.edu/brainstorm/Tutorials/PhantomElekta\n",
    "\n",
    "\n",
    "#### References\n",
    "\n",
    "    Tadel F, Baillet S, Mosher JC, Pantazis D, Leahy RM.\n",
    "    Brainstorm: A User-Friendly Application for MEG/EEG Analysis.\n",
    "    Computational Intelligence and Neuroscience, vol. 2011, Article ID\n",
    "    879716, 13 pages, 2011. doi:10.1155/2011/879716"
   ]
  },
  {
   "cell_type": "code",
   "execution_count": null,
   "metadata": {},
   "outputs": [],
   "source": [
    "import os.path as op\n",
    "import numpy as np\n",
    "import matplotlib.pyplot as plt\n",
    "\n",
    "import mne\n",
    "from mne import find_events, fit_dipole\n",
    "from mne.datasets.brainstorm import bst_phantom_elekta\n",
    "from mne.io import read_raw_fif"
   ]
  },
  {
   "cell_type": "markdown",
   "metadata": {},
   "source": [
    "The data were collected with an Elekta Neuromag VectorView system at 1000 Hz\n",
    "and low-pass filtered at 330 Hz. Here the medium-amplitude (200 nAm) data\n",
    "are read to construct instances of :class:`mne.io.Raw`.\n",
    "\n"
   ]
  },
  {
   "cell_type": "code",
   "execution_count": null,
   "metadata": {},
   "outputs": [],
   "source": [
    "data_path = bst_phantom_elekta.data_path(verbose=True)\n",
    "subject = 'sample'\n",
    "\n",
    "raw_fname = op.join(data_path, 'kojak_all_200nAm_pp_no_chpi_no_ms_raw.fif')\n",
    "raw = read_raw_fif(raw_fname)"
   ]
  },
  {
   "cell_type": "markdown",
   "metadata": {},
   "source": [
    "Data channel array consisted of 204 MEG planor gradiometers,\n",
    "102 axial magnetometers, and 3 stimulus channels. Let's get the events\n",
    "for the phantom, where each dipole (1-32) gets its own event:\n",
    "\n"
   ]
  },
  {
   "cell_type": "code",
   "execution_count": null,
   "metadata": {},
   "outputs": [],
   "source": [
    "events = find_events(raw, 'STI201')\n",
    "raw.plot(events=events)\n",
    "raw.info['bads'] = ['MEG1933', 'MEG2421']"
   ]
  },
  {
   "cell_type": "markdown",
   "metadata": {},
   "source": [
    "The data have strong line frequency (60 Hz and harmonics) and cHPI coil\n",
    "noise (five peaks around 300 Hz). Here we plot only out to 60 seconds\n",
    "to save memory:\n",
    "\n"
   ]
  },
  {
   "cell_type": "code",
   "execution_count": null,
   "metadata": {},
   "outputs": [],
   "source": [
    "raw.plot_psd(tmax=30., average=False);"
   ]
  },
  {
   "cell_type": "markdown",
   "metadata": {},
   "source": [
    "Our phantom produces sinusoidal bursts at 20 Hz:\n",
    "\n"
   ]
  },
  {
   "cell_type": "code",
   "execution_count": null,
   "metadata": {},
   "outputs": [],
   "source": [
    "raw.plot(events=events);"
   ]
  },
  {
   "cell_type": "markdown",
   "metadata": {},
   "source": [
    "Now we epoch our data, average it, and look at the first dipole response.\n",
    "The first peak appears around 3 ms. Because we low-passed at 40 Hz,\n",
    "we can also decimate our data to save memory.\n",
    "\n"
   ]
  },
  {
   "cell_type": "code",
   "execution_count": null,
   "metadata": {},
   "outputs": [],
   "source": [
    "tmin, tmax = -0.1, 0.1\n",
    "bmax = -0.05  # Avoid capture filter ringing into baseline\n",
    "event_id = list(range(1, 33))\n",
    "epochs = mne.Epochs(raw, events, event_id, tmin, tmax, baseline=(None, bmax),\n",
    "                    preload=False)\n",
    "epochs['1'].average().plot(time_unit='s');"
   ]
  },
  {
   "cell_type": "markdown",
   "metadata": {},
   "source": [
    "\n",
    "Let's use a `sphere head geometry model <eeg_sphere_model>`\n",
    "and let's see the coordinate alignment and the sphere location. The phantom\n",
    "is properly modeled by a single-shell sphere with origin (0., 0., 0.).\n",
    "\n"
   ]
  },
  {
   "cell_type": "code",
   "execution_count": null,
   "metadata": {},
   "outputs": [],
   "source": [
    "sphere = mne.make_sphere_model(r0=(0., 0., 0.), head_radius=0.08)\n",
    "\n",
    "mne.viz.set_3d_backend('pyvista')\n",
    "mne.viz.plot_alignment(epochs.info, subject=subject, show_axes=True,\n",
    "                       bem=sphere, dig=True, surfaces='inner_skull');"
   ]
  },
  {
   "cell_type": "markdown",
   "metadata": {},
   "source": [
    "Let's do some dipole fits. We first compute the noise covariance,\n",
    "then do the fits for each event_id taking the time instant that maximizes\n",
    "the global field power.\n",
    "\n"
   ]
  },
  {
   "cell_type": "code",
   "execution_count": null,
   "metadata": {},
   "outputs": [],
   "source": [
    "# here we can get away with using method='oas' for speed (faster than \"shrunk\")\n",
    "# but in general \"shrunk\" is usually better\n",
    "cov = mne.compute_covariance(epochs, tmax=bmax)\n",
    "\n",
    "# cov = mne.make_ad_hoc_cov(epochs.info)\n",
    "\n",
    "mne.viz.plot_evoked_white(epochs['1'].average(), cov);"
   ]
  },
  {
   "cell_type": "markdown",
   "metadata": {},
   "source": [
    "## Let's now fit dipoles"
   ]
  },
  {
   "cell_type": "code",
   "execution_count": null,
   "metadata": {},
   "outputs": [],
   "source": [
    "data = []\n",
    "t_peak = 0.036  # true for Elekta phantom\n",
    "for ii in event_id:\n",
    "    # Avoid the first and last trials -- can contain dipole-switching artifacts\n",
    "    evoked = epochs[str(ii)][1:-1].average().crop(t_peak, t_peak)\n",
    "    data.append(evoked.data[:, 0])\n",
    "\n",
    "evoked = mne.EvokedArray(np.array(data).T, evoked.info, tmin=0.)\n",
    "dip, residual = fit_dipole(evoked, cov, sphere, n_jobs=1)"
   ]
  },
  {
   "cell_type": "markdown",
   "metadata": {},
   "source": [
    "Do a quick visualization of how much variance we explained, putting the\n",
    "data and residuals on the same scale (here the \"time points\" are the\n",
    "32 dipole peak values that we fit):\n",
    "\n"
   ]
  },
  {
   "cell_type": "code",
   "execution_count": null,
   "metadata": {},
   "outputs": [],
   "source": [
    "fig, axes = plt.subplots(2, 1)\n",
    "evoked.plot(axes=axes, show=False)\n",
    "for ax in axes:\n",
    "    ax.texts = []\n",
    "    for line in ax.lines:\n",
    "        line.set_color('#98df81')\n",
    "residual.plot(axes=axes);"
   ]
  },
  {
   "cell_type": "markdown",
   "metadata": {},
   "source": [
    "Now we can compare to the actual locations, taking the difference in mm:\n",
    "\n"
   ]
  },
  {
   "cell_type": "code",
   "execution_count": null,
   "metadata": {},
   "outputs": [],
   "source": [
    "actual_pos, actual_ori = mne.dipole.get_phantom_dipoles()\n",
    "actual_amp = 100.  # nAm\n",
    "\n",
    "fig, (ax1, ax2, ax3) = plt.subplots(nrows=3, ncols=1, figsize=(6, 7))\n",
    "\n",
    "diffs = 1000 * np.sqrt(np.sum((dip.pos - actual_pos) ** 2, axis=-1))\n",
    "print('mean(position error) = %0.1f mm' % (np.mean(diffs),))\n",
    "ax1.bar(event_id, diffs)\n",
    "ax1.set_xlabel('Dipole index')\n",
    "ax1.set_ylabel('Loc. error (mm)')\n",
    "\n",
    "angles = np.rad2deg(np.arccos(np.abs(np.sum(dip.ori * actual_ori, axis=1))))\n",
    "print(u'mean(angle error) = %0.1f°' % (np.mean(angles),))\n",
    "ax2.bar(event_id, angles)\n",
    "ax2.set_xlabel('Dipole index')\n",
    "ax2.set_ylabel(u'Angle error (°)')\n",
    "\n",
    "amps = actual_amp - dip.amplitude / 1e-9\n",
    "print('mean(abs amplitude error) = %0.1f nAm' % (np.mean(np.abs(amps)),))\n",
    "ax3.bar(event_id, amps)\n",
    "ax3.set_xlabel('Dipole index')\n",
    "ax3.set_ylabel('Amplitude error (nAm)')\n",
    "\n",
    "fig.tight_layout()\n",
    "plt.show()"
   ]
  },
  {
   "cell_type": "markdown",
   "metadata": {},
   "source": [
    "Let's plot the positions and the orientations of the actual and the estimated\n",
    "dipoles\n",
    "\n"
   ]
  },
  {
   "cell_type": "code",
   "execution_count": null,
   "metadata": {},
   "outputs": [],
   "source": [
    "actual_amp = np.ones(len(dip))  # misc amp to create Dipole instance\n",
    "actual_gof = np.ones(len(dip))  # misc GOF to create Dipole instance\n",
    "dip_true = \\\n",
    "    mne.Dipole(dip.times, actual_pos, actual_amp, actual_ori, actual_gof)\n",
    "\n",
    "fig = mne.viz.plot_alignment(evoked.info, bem=sphere, surfaces='inner_skull',\n",
    "                             coord_frame='head', meg='helmet', show_axes=True)\n",
    "\n",
    "# Plot the position and the orientation of the actual dipole\n",
    "fig = mne.viz.plot_dipole_locations(dipoles=dip_true, mode='arrow',\n",
    "                                    subject=subject, color=(0., 0., 0.),\n",
    "                                    fig=fig)\n",
    "\n",
    "# Plot the position and the orientation of the estimated dipole\n",
    "fig = mne.viz.plot_dipole_locations(dipoles=dip, mode='arrow', subject=subject,\n",
    "                                    color=(0.2, 1., 0.5), fig=fig)\n",
    "\n",
    "mne.viz.set_3d_view(figure=fig, azimuth=70, elevation=80, distance=0.5)"
   ]
  },
  {
   "cell_type": "code",
   "execution_count": null,
   "metadata": {},
   "outputs": [],
   "source": []
  }
 ],
 "metadata": {
  "kernelspec": {
   "display_name": "Python 3",
   "language": "python",
   "name": "python3"
  },
  "language_info": {
   "codemirror_mode": {
    "name": "ipython",
    "version": 3
   },
   "file_extension": ".py",
   "mimetype": "text/x-python",
   "name": "python",
   "nbconvert_exporter": "python",
   "pygments_lexer": "ipython3",
   "version": "3.7.5"
  }
 },
 "nbformat": 4,
 "nbformat_minor": 1
}
